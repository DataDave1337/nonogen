{
 "cells": [
  {
   "cell_type": "code",
   "execution_count": null,
   "metadata": {},
   "outputs": [],
   "source": [
    "import cv2\n",
    "from matplotlib import pyplot as plt\n",
    "import numpy as np\n",
    "import os\n",
    "from nonolib import *"
   ]
  },
  {
   "cell_type": "code",
   "execution_count": null,
   "metadata": {},
   "outputs": [],
   "source": [
    "img_path = 'images/candle.jpeg'\n",
    "cells = 20\n",
    "\n",
    "# load image\n",
    "image = load_image(img_path)\n",
    "# squarify\n",
    "image = squarify_image(image)\n",
    "edges_before = cv2.Canny(image,100,200)\n",
    "\n",
    "# resize\n",
    "image = cv2.resize(image, (cells, cells))\n",
    "plot_image(image)"
   ]
  },
  {
   "cell_type": "code",
   "execution_count": null,
   "metadata": {},
   "outputs": [],
   "source": [
    "edges_after = cv2.Canny(image,100,255)\n",
    "plot_image(edges_after, gray=True)"
   ]
  },
  {
   "cell_type": "code",
   "execution_count": null,
   "metadata": {},
   "outputs": [],
   "source": [
    "# edges_before = cv2.resize(image, (cells, cells))\n",
    "plot_image(edges_before, gray=True)\n",
    "plot_image(cv2.resize(edges_before, (cells, cells)), gray=True)"
   ]
  },
  {
   "cell_type": "markdown",
   "metadata": {},
   "source": [
    "Edge detection before scaling doesnt work"
   ]
  },
  {
   "cell_type": "code",
   "execution_count": null,
   "metadata": {},
   "outputs": [],
   "source": [
    "kernel = np.ones((3,3),np.uint8)\n",
    "dilated_edges = cv2.dilate(edges_before,kernel,iterations = 2)\n",
    "\n",
    "scaled_delated_edges = cv2.resize(dilated_edges, (cells, cells))\n",
    "\n",
    "ret, bin_image2 = cv2.threshold(scaled_delated_edges, 127, 255, cv2.THRESH_BINARY_INV)\n",
    "\n",
    "plot_image(dilated_edges, gray=True)\n",
    "plot_image(scaled_delated_edges, gray=True)\n",
    "plot_image(bin_image1, gray=True)\n",
    "plot_image(bin_image2, gray=True)"
   ]
  },
  {
   "cell_type": "code",
   "execution_count": null,
   "metadata": {},
   "outputs": [],
   "source": []
  },
  {
   "cell_type": "code",
   "execution_count": null,
   "metadata": {},
   "outputs": [],
   "source": []
  }
 ],
 "metadata": {
  "kernelspec": {
   "display_name": "Python 3",
   "language": "python",
   "name": "python3"
  },
  "language_info": {
   "codemirror_mode": {
    "name": "ipython",
    "version": 3
   },
   "file_extension": ".py",
   "mimetype": "text/x-python",
   "name": "python",
   "nbconvert_exporter": "python",
   "pygments_lexer": "ipython3",
   "version": "3.7.1"
  }
 },
 "nbformat": 4,
 "nbformat_minor": 4
}
