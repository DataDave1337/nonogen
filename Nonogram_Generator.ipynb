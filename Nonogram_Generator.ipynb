{
 "cells": [
  {
   "cell_type": "code",
   "execution_count": null,
   "metadata": {},
   "outputs": [],
   "source": [
    "import cv2\n",
    "from matplotlib import pyplot as plt\n",
    "import numpy as np\n",
    "import os\n",
    "from nonolib import *"
   ]
  },
  {
   "cell_type": "markdown",
   "metadata": {},
   "source": [
    "## Methods for image processing"
   ]
  },
  {
   "cell_type": "markdown",
   "metadata": {},
   "source": [
    "## Load Image"
   ]
  },
  {
   "cell_type": "code",
   "execution_count": null,
   "metadata": {},
   "outputs": [],
   "source": [
    "orig_image = load_image('images/flower.jpeg')\n",
    "plot_image(orig_image)"
   ]
  },
  {
   "cell_type": "markdown",
   "metadata": {},
   "source": [
    "## Transform to grayscale"
   ]
  },
  {
   "cell_type": "code",
   "execution_count": null,
   "metadata": {},
   "outputs": [],
   "source": [
    "gray_image = cv2.cvtColor(orig_image, cv2.COLOR_BGR2GRAY)\n",
    "plot_image(gray_image, gray=True)"
   ]
  },
  {
   "cell_type": "markdown",
   "metadata": {},
   "source": [
    "## Make it square"
   ]
  },
  {
   "cell_type": "code",
   "execution_count": null,
   "metadata": {},
   "outputs": [],
   "source": [
    "crop_gray_image = squarify_image(gray_image)\n",
    "plot_image(crop_gray_image, gray=True)"
   ]
  },
  {
   "cell_type": "markdown",
   "metadata": {},
   "source": [
    "## Resize it to Nonogram shape"
   ]
  },
  {
   "cell_type": "code",
   "execution_count": null,
   "metadata": {},
   "outputs": [],
   "source": [
    "cells = 100\n",
    "resized_image = cv2.resize(crop_gray_image, (cells, cells))\n",
    "plot_image(resized_image, gray=True)"
   ]
  },
  {
   "cell_type": "markdown",
   "metadata": {},
   "source": [
    "## Binarize image"
   ]
  },
  {
   "cell_type": "code",
   "execution_count": null,
   "metadata": {},
   "outputs": [],
   "source": [
    "bin_image = cv2.adaptiveThreshold(resized_image, 255, cv2.ADAPTIVE_THRESH_GAUSSIAN_C, cv2.THRESH_BINARY,11,2)\n",
    "plot_image(bin_image, gray=True)"
   ]
  },
  {
   "cell_type": "markdown",
   "metadata": {},
   "source": [
    "## Full version"
   ]
  },
  {
   "cell_type": "code",
   "execution_count": null,
   "metadata": {},
   "outputs": [],
   "source": [
    "cells = 20\n",
    "image_files = [f for f in os.listdir('images') if f not in ['.ipynb_checkpoints', '.DS_Store']]\n",
    "\n",
    "# img_path = 'images/santa_hat.png'\n",
    "# img_path = 'images/flower.jpeg'\n",
    "n_images = len(image_files)\n",
    "fig, ax2d = plt.subplots(n_images, 5, figsize=(25, n_images*5))\n",
    "\n",
    "for img_file, ax1d in zip(image_files, ax2d):\n",
    "\n",
    "    # load image\n",
    "    ax = ax1d[0]\n",
    "    ax.set_title('Loaded image')\n",
    "    ax.set_ylabel(f'{img_file}')\n",
    "    img_path = f'images/{img_file}'\n",
    "    print(f'Loading {img_path}...')\n",
    "    image = load_image(img_path)\n",
    "    plot_image(image, ax=ax)\n",
    "\n",
    "    # squarify\n",
    "    ax = ax1d[1]\n",
    "    ax.set_title('Squarified image')\n",
    "    image = squarify_image(image)\n",
    "    plot_image(image, ax=ax)\n",
    "    \n",
    "    # resize\n",
    "    ax = ax1d[2]\n",
    "    ax.set_title('Rescaled image')\n",
    "    image = cv2.resize(image, (cells, cells))\n",
    "    plot_image(image, ax=ax)\n",
    "\n",
    "    # convert to black and white\n",
    "    ax = ax1d[3]\n",
    "    ax.set_title('Grascaled and final image')\n",
    "    image = cv2.cvtColor(image, cv2.COLOR_BGR2GRAY)\n",
    "    plot_image(image, gray=True, ax=ax)\n",
    "\n",
    "    # binarize\n",
    "    ax = ax1d[4]\n",
    "    image = cv2.adaptiveThreshold(image, 255, cv2.ADAPTIVE_THRESH_GAUSSIAN_C, cv2.THRESH_BINARY, 11, 2)\n",
    "    ax.set_title('Binarized and final image')\n",
    "    plot_image(image, gray=True, ax=ax)"
   ]
  },
  {
   "cell_type": "code",
   "execution_count": null,
   "metadata": {},
   "outputs": [],
   "source": [
    "plot_image(generate_nonogram('images/bells.png'), gray=True)"
   ]
  },
  {
   "cell_type": "markdown",
   "metadata": {},
   "source": [
    "## Thresholding experiments"
   ]
  },
  {
   "cell_type": "code",
   "execution_count": null,
   "metadata": {},
   "outputs": [],
   "source": [
    "img_path = 'images/candle.jpeg'\n",
    "cells = 200\n",
    "\n",
    "# load image\n",
    "image = load_image(img_path)\n",
    "# squarify\n",
    "image = squarify_image(image)\n",
    "# resize\n",
    "image = cv2.resize(image, (cells, cells))\n",
    "# convert to grayscale\n",
    "image = cv2.cvtColor(image, cv2.COLOR_RGB2GRAY)\n",
    "plot_image(image, gray=True)"
   ]
  },
  {
   "cell_type": "code",
   "execution_count": null,
   "metadata": {},
   "outputs": [],
   "source": [
    "# binarize\n",
    "bin_image = cv2.adaptiveThreshold(image, 255, cv2.ADAPTIVE_THRESH_GAUSSIAN_C, cv2.THRESH_BINARY, 11, 2)\n",
    "plot_image(bin_image, gray=True)\n",
    "\n",
    "ret,th1 = cv2.threshold(image, 127,255,cv2.THRESH_BINARY)\n",
    "\n",
    "ret2,th2 = cv2.threshold(image,0,255,cv2.THRESH_BINARY+cv2.THRESH_OTSU)\n",
    "\n",
    "fs = 5\n",
    "blur = cv2.GaussianBlur(image,(fs,fs),0)\n",
    "ret3,th3 = cv2.threshold(blur,0,255,cv2.THRESH_BINARY+cv2.THRESH_OTSU)\n",
    "\n",
    "blur = cv2.GaussianBlur(image,(fs,fs),0)\n",
    "\n",
    "images = [bin_image, th1, th2, th3, blur]\n",
    "fig = plt.figure(figsize=(20,5))\n",
    "ax = fig.gca()\n",
    "plot_image(np.hstack(images), gray=True, ax=ax)"
   ]
  },
  {
   "cell_type": "code",
   "execution_count": null,
   "metadata": {},
   "outputs": [],
   "source": [
    "img_path = 'images/bells.png'\n",
    "cells = 200\n",
    "\n",
    "# load image\n",
    "image = load_image(img_path)\n",
    "# squarify\n",
    "image = squarify_image(image)\n",
    "# resize\n",
    "image = cv2.resize(image, (cells, cells))\n",
    "# convert to grayscale\n",
    "image = cv2.cvtColor(image, cv2.COLOR_RGB2GRAY)\n",
    "plot_image(image, gray=True)\n",
    "\n",
    "# binarize\n",
    "bin_image = cv2.adaptiveThreshold(image, 255, cv2.ADAPTIVE_THRESH_GAUSSIAN_C, cv2.THRESH_BINARY, 11, 2)\n",
    "plot_image(bin_image, gray=True)\n",
    "\n",
    "ret,th1 = cv2.threshold(image, 127,255,cv2.THRESH_BINARY)\n",
    "plot_image(th1, gray=True)\n",
    "\n",
    "ret2,th2 = cv2.threshold(image,0,255,cv2.THRESH_BINARY+cv2.THRESH_OTSU)\n",
    "plot_image(th2, gray=True)\n",
    "\n",
    "fs = 5\n",
    "blur = cv2.GaussianBlur(image,(fs,fs),0)\n",
    "ret3,th3 = cv2.threshold(blur,0,255,cv2.THRESH_BINARY+cv2.THRESH_OTSU)\n",
    "plot_image(th3, gray=True)\n",
    "\n",
    "blur = cv2.GaussianBlur(image,(fs,fs),0)\n",
    "plot_image(blur, gray=True)"
   ]
  },
  {
   "cell_type": "markdown",
   "metadata": {},
   "source": [
    "## Experiments with histogram equilization"
   ]
  },
  {
   "cell_type": "code",
   "execution_count": null,
   "metadata": {},
   "outputs": [],
   "source": [
    "img_path = 'images/bells.png'\n",
    "\n",
    "# load image\n",
    "image = load_image(img_path)\n",
    "image = cv2.cvtColor(image, cv2.COLOR_RGB2GRAY)\n",
    "plot_image(image, gray=True)\n",
    "\n",
    "equ = cv2.equalizeHist(image)\n",
    "plot_image(equ, gray=True)"
   ]
  },
  {
   "cell_type": "code",
   "execution_count": null,
   "metadata": {},
   "outputs": [],
   "source": [
    "plot_image(generate_nonogram('images/flower.jpeg', 15), gray=True)"
   ]
  }
 ],
 "metadata": {
  "kernelspec": {
   "display_name": "Python 3",
   "language": "python",
   "name": "python3"
  },
  "language_info": {
   "codemirror_mode": {
    "name": "ipython",
    "version": 3
   },
   "file_extension": ".py",
   "mimetype": "text/x-python",
   "name": "python",
   "nbconvert_exporter": "python",
   "pygments_lexer": "ipython3",
   "version": "3.7.1"
  }
 },
 "nbformat": 4,
 "nbformat_minor": 4
}
