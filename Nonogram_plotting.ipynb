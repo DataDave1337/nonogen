{
 "cells": [
  {
   "cell_type": "code",
   "execution_count": null,
   "metadata": {},
   "outputs": [],
   "source": [
    "import nonolib\n",
    "import cv2\n",
    "from matplotlib import pyplot as plt\n",
    "import numpy as np\n",
    "import os"
   ]
  },
  {
   "cell_type": "code",
   "execution_count": null,
   "metadata": {},
   "outputs": [],
   "source": [
    "n_cells = 15\n",
    "test_nono, colored_result = nonolib.generate_nonogram('images/flower.jpeg',\n",
    "                                                      n_cells=n_cells,\n",
    "                                                      return_colored_result=True)"
   ]
  },
  {
   "cell_type": "code",
   "execution_count": null,
   "metadata": {},
   "outputs": [],
   "source": [
    "def get_count_str(arr, col=False):\n",
    "    res = []\n",
    "    cnt = -1\n",
    "    for elem in arr:\n",
    "        if elem == 0:\n",
    "            if cnt == -1:\n",
    "                cnt = 1\n",
    "            else:\n",
    "                cnt += 1\n",
    "        else:\n",
    "            if cnt > 0:\n",
    "                res.append(str(cnt))\n",
    "                cnt = -1\n",
    "\n",
    "    if cnt > 0:\n",
    "        res.append(str(cnt))\n",
    "    if res:\n",
    "        if col:\n",
    "            return '\\n'.join(res)\n",
    "        else:\n",
    "            return ' '.join(res)\n",
    "    else:\n",
    "        return '0'"
   ]
  },
  {
   "cell_type": "code",
   "execution_count": null,
   "metadata": {},
   "outputs": [],
   "source": [
    "def create_nonogram_plot(nono_mat):\n",
    "    n_cells = \n",
    "    fig = plt.figure(figsize=(10,10))\n",
    "    ax = fig.gca()\n",
    "    ax.set_xlim(0, n_cells)\n",
    "    ax.set_ylim(0, n_cells)\n",
    "\n",
    "    ax.axvline(0, color='black', lw=2)\n",
    "    ax.axhline(0, color='black', lw=2)\n",
    "    for i in range(0, n_cells):\n",
    "        if n_cells%5 == 0 and i%5 == 0:\n",
    "            line_width = 2\n",
    "        else:\n",
    "            line_width = 1\n",
    "        ax.axvline(i, color='black', lw=line_width)\n",
    "        ax.axhline(i, color='black', lw=line_width)\n",
    "\n",
    "        # column and row labels\n",
    "        row_label = get_count_str(nono_mat[i, :])\n",
    "        col_label = get_count_str(nono_mat[:, i], col=True)\n",
    "        ax.text(-0.2, i+0.5, row_label, horizontalalignment='right')\n",
    "        ax.text(i+0.5, -0.2, col_label, horizontalalignment='center')\n",
    "\n",
    "    ax.get_xaxis().set_visible(False)\n",
    "    ax.get_yaxis().set_visible(False)\n",
    "\n",
    "    ax.invert_yaxis()"
   ]
  },
  {
   "cell_type": "code",
   "execution_count": null,
   "metadata": {},
   "outputs": [],
   "source": [
    "create_nonogram_plot(test_nono)"
   ]
  },
  {
   "cell_type": "code",
   "execution_count": null,
   "metadata": {},
   "outputs": [],
   "source": [
    "n_cells = 15\n",
    "img_file = 'images/santa_hat.jpg'\n",
    "test_nono, colored_result = nonolib.generate_nonogram(img_file, n_cells=n_cells,\n",
    "                                                      return_colored_result=True)\n",
    "nonolib.plot_image(test_nono, gray=True)\n",
    "plt.show()\n",
    "nonolib.plot_image(colored_result)\n",
    "plt.show()\n",
    "create_nonogram_plot(test_nono)"
   ]
  },
  {
   "cell_type": "code",
   "execution_count": null,
   "metadata": {},
   "outputs": [],
   "source": []
  }
 ],
 "metadata": {
  "kernelspec": {
   "display_name": "Python 3",
   "language": "python",
   "name": "python3"
  },
  "language_info": {
   "codemirror_mode": {
    "name": "ipython",
    "version": 3
   },
   "file_extension": ".py",
   "mimetype": "text/x-python",
   "name": "python",
   "nbconvert_exporter": "python",
   "pygments_lexer": "ipython3",
   "version": "3.7.1"
  }
 },
 "nbformat": 4,
 "nbformat_minor": 4
}
