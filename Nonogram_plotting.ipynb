{
 "cells": [
  {
   "cell_type": "code",
   "execution_count": null,
   "metadata": {},
   "outputs": [],
   "source": [
    "from nonolib import *\n",
    "import cv2\n",
    "from matplotlib import pyplot as plt\n",
    "import numpy as np\n",
    "import os"
   ]
  },
  {
   "cell_type": "code",
   "execution_count": null,
   "metadata": {},
   "outputs": [],
   "source": [
    "n_cells = 15\n",
    "test_nono, colored_result = generate_nonogram('images/flower.jpeg',\n",
    "                                                      n_cells=n_cells,\n",
    "                                                      return_colored_result=True)"
   ]
  },
  {
   "cell_type": "code",
   "execution_count": null,
   "metadata": {},
   "outputs": [],
   "source": [
    "create_nonogram_plot(test_nono)"
   ]
  },
  {
   "cell_type": "code",
   "execution_count": null,
   "metadata": {},
   "outputs": [],
   "source": [
    "n_cells = 15\n",
    "img_file = 'images/santa_hat.jpg'\n",
    "test_nono, colored_result = nonolib.generate_nonogram(img_file, n_cells=n_cells,\n",
    "                                                      return_colored_result=True)\n",
    "nonolib.plot_image(test_nono, gray=True)\n",
    "plt.show()\n",
    "nonolib.plot_image(colored_result)\n",
    "plt.show()\n",
    "create_nonogram_plot(test_nono)"
   ]
  },
  {
   "cell_type": "code",
   "execution_count": null,
   "metadata": {},
   "outputs": [],
   "source": []
  }
 ],
 "metadata": {
  "kernelspec": {
   "display_name": "Python 3",
   "language": "python",
   "name": "python3"
  },
  "language_info": {
   "codemirror_mode": {
    "name": "ipython",
    "version": 3
   },
   "file_extension": ".py",
   "mimetype": "text/x-python",
   "name": "python",
   "nbconvert_exporter": "python",
   "pygments_lexer": "ipython3",
   "version": "3.7.1"
  }
 },
 "nbformat": 4,
 "nbformat_minor": 4
}
