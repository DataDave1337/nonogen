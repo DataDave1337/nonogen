{
 "cells": [
  {
   "cell_type": "code",
   "execution_count": null,
   "metadata": {},
   "outputs": [],
   "source": [
    "from nonolib import *\n",
    "import cv2\n",
    "from matplotlib import pyplot as plt\n",
    "import numpy as np\n",
    "import os"
   ]
  },
  {
   "cell_type": "markdown",
   "metadata": {},
   "source": [
    "## Example Nonogram"
   ]
  },
  {
   "cell_type": "code",
   "execution_count": null,
   "metadata": {},
   "outputs": [],
   "source": [
    "n_cells = 15\n",
    "img_file = 'images/candle.jpeg'\n",
    "test_nono, colored_result = generate_nonogram(img_file, n_cells=n_cells,\n",
    "                                                      return_colored_result=True)\n",
    "plot_image(test_nono, gray=True)\n",
    "plt.show()\n",
    "plot_image(colored_result)\n",
    "plt.show()\n",
    "create_nonogram_plot(test_nono)"
   ]
  },
  {
   "cell_type": "markdown",
   "metadata": {},
   "source": [
    "## Comparison plot"
   ]
  },
  {
   "cell_type": "code",
   "execution_count": null,
   "metadata": {},
   "outputs": [],
   "source": [
    "n_cells = 15\n",
    "img_file = 'images/candle.jpeg'\n",
    "test_nono, colored_result = generate_nonogram(img_file, n_cells=n_cells,\n",
    "                                                      return_colored_result=True)\n",
    "plot_image(test_nono, gray=True)\n",
    "plt.show()\n",
    "plot_image(colored_result)\n",
    "plt.show()\n",
    "create_nonogram_plot(test_nono)"
   ]
  },
  {
   "cell_type": "code",
   "execution_count": null,
   "metadata": {},
   "outputs": [],
   "source": [
    "cells = 20\n",
    "image_files = [f for f in os.listdir('images') if f not in ['.ipynb_checkpoints', '.DS_Store']]\n",
    "n_images = len(image_files)\n",
    "fig, ax2d = plt.subplots(n_images, 4, figsize=(16, n_images*4))\n",
    "\n",
    "for img_file, ax1d in zip(image_files, ax2d):\n",
    "    \n",
    "    # load image\n",
    "    ax = ax1d[0]\n",
    "    ax.set_title('Loaded image')\n",
    "    ax.set_ylabel(f'{img_file}')\n",
    "    img_path = f'images/{img_file}'\n",
    "    print(f'Loading {img_path}...')\n",
    "    image = load_image(img_path)\n",
    "    plot_image(image, ax=ax)\n",
    "    \n",
    "    nono_result_canny, colored_result = generate_nonogram(img_path, n_cells=n_cells, method = 'canny-edge',\n",
    "                                                  return_colored_result=True)\n",
    "    nono_result_grayscale = generate_nonogram(img_path, n_cells=n_cells, method = 'grayscale',\n",
    "                                                  return_colored_result=False)\n",
    "    \n",
    "    # resize\n",
    "    ax = ax1d[1]\n",
    "    ax.set_title('Rescaled colored image')\n",
    "    plot_image(colored_result, ax=ax)\n",
    "    \n",
    "    ax = ax1d[2]\n",
    "    ax.set_title('Canny Edge Detection result')\n",
    "    plot_image(nono_result_canny, ax=ax, gray=True)\n",
    "    \n",
    "    ax = ax1d[3]\n",
    "    ax.set_title('Grayscale result')\n",
    "    plot_image(nono_result_grayscale, ax=ax, gray=True)"
   ]
  },
  {
   "cell_type": "code",
   "execution_count": null,
   "metadata": {},
   "outputs": [],
   "source": []
  }
 ],
 "metadata": {
  "kernelspec": {
   "display_name": "Python 3",
   "language": "python",
   "name": "python3"
  },
  "language_info": {
   "codemirror_mode": {
    "name": "ipython",
    "version": 3
   },
   "file_extension": ".py",
   "mimetype": "text/x-python",
   "name": "python",
   "nbconvert_exporter": "python",
   "pygments_lexer": "ipython3",
   "version": "3.7.1"
  }
 },
 "nbformat": 4,
 "nbformat_minor": 4
}
